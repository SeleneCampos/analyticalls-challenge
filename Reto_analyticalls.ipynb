{
  "nbformat": 4,
  "nbformat_minor": 0,
  "metadata": {
    "colab": {
      "name": "Reto_analyticalls.ipynb",
      "provenance": [],
      "collapsed_sections": [],
      "toc_visible": true
    },
    "kernelspec": {
      "name": "python3",
      "display_name": "Python 3"
    }
  },
  "cells": [
    {
      "cell_type": "markdown",
      "metadata": {
        "id": "AzcRCbfc8Gml"
      },
      "source": [
        "### Reto analyticalls\n",
        "\n",
        "Averiguar los números pulsados en el teclado numérico de la grabación dada"
      ]
    },
    {
      "cell_type": "code",
      "metadata": {
        "colab": {
          "base_uri": "https://localhost:8080/"
        },
        "id": "_M4542nXapsy",
        "outputId": "223600d2-70e6-4c8b-bcff-cdbe29b8459f"
      },
      "source": [
        "pip install pydub"
      ],
      "execution_count": null,
      "outputs": [
        {
          "output_type": "stream",
          "text": [
            "Collecting pydub\n",
            "  Downloading https://files.pythonhosted.org/packages/7b/d1/fbfa79371a8cd9bb15c2e3c480d7e6e340ed5cc55005174e16f48418333a/pydub-0.24.1-py2.py3-none-any.whl\n",
            "Installing collected packages: pydub\n",
            "Successfully installed pydub-0.24.1\n"
          ],
          "name": "stdout"
        }
      ]
    },
    {
      "cell_type": "code",
      "metadata": {
        "id": "cDSPKcfIpznh"
      },
      "source": [
        "import librosa, librosa.display\n",
        "import matplotlib.pyplot as plt\n",
        "import numpy as np\n",
        "import pandas as pd\n",
        "from os import path\n",
        "from pydub import AudioSegment"
      ],
      "execution_count": null,
      "outputs": []
    },
    {
      "cell_type": "code",
      "metadata": {
        "id": "Ug1v9h6Ep1_A"
      },
      "source": [
        "file = \"adv1.wav\""
      ],
      "execution_count": null,
      "outputs": []
    },
    {
      "cell_type": "code",
      "metadata": {
        "colab": {
          "base_uri": "https://localhost:8080/"
        },
        "id": "TgbkQLDWsRT9",
        "outputId": "82fff7b8-b84e-40a2-a85d-0a765fe78358"
      },
      "source": [
        "src = \"adv1.mp3\"\n",
        "sound = AudioSegment.from_mp3(src)\n",
        "sound.export(src, format=\"wav\")"
      ],
      "execution_count": null,
      "outputs": [
        {
          "output_type": "execute_result",
          "data": {
            "text/plain": [
              "<_io.BufferedRandom name='adv1.mp3'>"
            ]
          },
          "metadata": {
            "tags": []
          },
          "execution_count": 5
        }
      ]
    },
    {
      "cell_type": "code",
      "metadata": {
        "colab": {
          "base_uri": "https://localhost:8080/",
          "height": 279
        },
        "id": "_ZX2VWfbxiEt",
        "outputId": "a1b12148-4adf-4084-a730-7ed0d8e4d5b3"
      },
      "source": [
        "signal, sr = librosa.load(file, sr=22050)\n",
        "librosa.display.waveplot(signal, sr=sr)\n",
        "plt.xlabel(\"Time (s)\")\n",
        "plt.ylabel(\"Amplitude\")\n",
        "plt.show()"
      ],
      "execution_count": null,
      "outputs": [
        {
          "output_type": "display_data",
          "data": {
            "image/png": "[encoded data removed]",
            "text/plain": [
              "<Figure size 432x288 with 1 Axes>"
            ]
          },
          "metadata": {
            "tags": [],
            "needs_background": "light"
          }
        }
      ]
    },
    {
      "cell_type": "markdown",
      "metadata": {
        "id": "k7MXVlTcJ9o6"
      },
      "source": [
        "#### Por deducción sabemos que los tonos están en los siguientes intervalos:\n",
        "\n",
        "\n",
        "*   Primer tono  --> 26.9 - 27.3 s\n",
        "*   Segundo tono --> 34.6 - 35.6 s\n",
        "*   Tercer tono  --> 35.6 - 36.2 s\n",
        "*   Cuarto tono  --> 36.2 - 36.5 s\n",
        "*   Quinto tono  --> 36.5 - 37 s\n",
        "*   Sexto tono   --> 37 - 37.3 s\n",
        "\n"
      ]
    },
    {
      "cell_type": "code",
      "metadata": {
        "id": "YLTEiMzdZ3jN"
      },
      "source": [
        "def find_nearest(array,value):\n",
        "       idx = (np.abs(array-value)).argmin()\n",
        "       return array[idx]"
      ],
      "execution_count": null,
      "outputs": []
    },
    {
      "cell_type": "code",
      "metadata": {
        "colab": {
          "base_uri": "https://localhost:8080/",
          "height": 173
        },
        "id": "5AFTe8VTa6k2",
        "outputId": "0101c128-704d-4c08-81ac-85854944dc8a"
      },
      "source": [
        "arrM = np.array([1209, 1336, 1447])\n",
        "arrm = np.array([697, 770, 852, 941])\n",
        "df = pd.DataFrame(np.array([[\"1\", \"2\", \"3\"], [\"4\", \"5\", \"6\"], [\"7\", \"8\", \"9\"], ['*', '0', '#']]),\n",
        "                  columns=arrM,\n",
        "                  index=arrm)\n",
        "df"
      ],
      "execution_count": null,
      "outputs": [
        {
          "output_type": "execute_result",
          "data": {
            "text/html": [
              "<div>\n",
              "<style scoped>\n",
              "    .dataframe tbody tr th:only-of-type {\n",
              "        vertical-align: middle;\n",
              "    }\n",
              "\n",
              "    .dataframe tbody tr th {\n",
              "        vertical-align: top;\n",
              "    }\n",
              "\n",
              "    .dataframe thead th {\n",
              "        text-align: right;\n",
              "    }\n",
              "</style>\n",
              "<table border=\"1\" class=\"dataframe\">\n",
              "  <thead>\n",
              "    <tr style=\"text-align: right;\">\n",
              "      <th></th>\n",
              "      <th>1209</th>\n",
              "      <th>1336</th>\n",
              "      <th>1447</th>\n",
              "    </tr>\n",
              "  </thead>\n",
              "  <tbody>\n",
              "    <tr>\n",
              "      <th>697</th>\n",
              "      <td>1</td>\n",
              "      <td>2</td>\n",
              "      <td>3</td>\n",
              "    </tr>\n",
              "    <tr>\n",
              "      <th>770</th>\n",
              "      <td>4</td>\n",
              "      <td>5</td>\n",
              "      <td>6</td>\n",
              "    </tr>\n",
              "    <tr>\n",
              "      <th>852</th>\n",
              "      <td>7</td>\n",
              "      <td>8</td>\n",
              "      <td>9</td>\n",
              "    </tr>\n",
              "    <tr>\n",
              "      <th>941</th>\n",
              "      <td>*</td>\n",
              "      <td>0</td>\n",
              "      <td>#</td>\n",
              "    </tr>\n",
              "  </tbody>\n",
              "</table>\n",
              "</div>"
            ],
            "text/plain": [
              "    1209 1336 1447\n",
              "697    1    2    3\n",
              "770    4    5    6\n",
              "852    7    8    9\n",
              "941    *    0    #"
            ]
          },
          "metadata": {
            "tags": []
          },
          "execution_count": 196
        }
      ]
    },
    {
      "cell_type": "code",
      "metadata": {
        "colab": {
          "base_uri": "https://localhost:8080/"
        },
        "id": "6BoqEdPvrdCM",
        "outputId": "5959bf01-3087-4c10-9f69-ea1119479afe"
      },
      "source": [
        "intervals = [26.9, 27.3, 34.6, 35.6, 35.6, 36.2, 36.2, 36.5, 36.5, 37, 37, 37.3]\n",
        "tt = signal.shape[0] / sr\n",
        "\n",
        "for i in range(6):\n",
        "  x = signal[int(intervals[2*i]*sr):int(intervals[2*i+1]*sr)]\n",
        "  fft = np.fft.fft(x)\n",
        "  magnitude = np.abs(fft)\n",
        "  freq = np.linspace(0,sr,len(magnitude))\n",
        "\n",
        "  left_freq = freq[:int(len(freq)/2)]\n",
        "  left_mag = magnitude[:int(len(freq)/2)]\n",
        "\n",
        "  salto = left_freq[-1]/len(left_freq)\n",
        "\n",
        "  frM = left_freq[np.where(left_mag == np.max(left_mag))]\n",
        "  frm = left_freq[np.where(left_mag == np.max(left_mag[int(650/salto):int(980/salto)]))]\n",
        "\n",
        "  print(\"El número marcado es: \", df[find_nearest(arrM, frM)][find_nearest(arrm, frm)])"
      ],
      "execution_count": null,
      "outputs": [
        {
          "output_type": "stream",
          "text": [
            "El número marcado es:  4\n",
            "El número marcado es:  4\n",
            "El número marcado es:  6\n",
            "El número marcado es:  0\n",
            "El número marcado es:  1\n",
            "El número marcado es:  7\n"
          ],
          "name": "stdout"
        }
      ]
    },
    {
      "cell_type": "code",
      "metadata": {
        "id": "3fGPQdO6t3Zw"
      },
      "source": [
        ""
      ],
      "execution_count": null,
      "outputs": []
    }
  ]
}